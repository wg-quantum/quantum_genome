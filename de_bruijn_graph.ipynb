{
  "cells": [
    {
      "cell_type": "code",
      "source": [
        "# GoogleDrive上のモジュール配置パス（DeBruijnDNA.py、phi-x.600l.gfa などがあるフォルダまでのパス）\n",
        "FILE_PATH = '/gdrive/My Drive/Genom/'"
      ],
      "metadata": {
        "id": "VXrq_Hhc_wN_"
      },
      "execution_count": 5,
      "outputs": []
    },
    {
      "cell_type": "code",
      "source": [
        "# Google Drive のマウント\n",
        "from google.colab import drive\n",
        "drive.mount('/gdrive')"
      ],
      "metadata": {
        "colab": {
          "base_uri": "https://localhost:8080/"
        },
        "id": "3hirpTM7_zSD",
        "outputId": "7ce46a0f-f71b-4052-e8df-915b91ec6780"
      },
      "execution_count": 6,
      "outputs": [
        {
          "output_type": "stream",
          "name": "stdout",
          "text": [
            "Mounted at /gdrive\n"
          ]
        }
      ]
    },
    {
      "cell_type": "code",
      "source": [
        "# GoogleDrive上にあるモジュールのパスを通す\n",
        "import sys\n",
        "sys.path.append(FILE_PATH)"
      ],
      "metadata": {
        "id": "86mf3nad_07l"
      },
      "execution_count": 7,
      "outputs": []
    },
    {
      "cell_type": "code",
      "source": [
        "# D-WaveのSDKをインストール\n",
        "!pip install dwave-ocean-sdk"
      ],
      "metadata": {
        "colab": {
          "base_uri": "https://localhost:8080/"
        },
        "id": "nGAgAVvR_19G",
        "outputId": "aa2c664c-cd4a-4cab-ae31-ad9714e94ac2"
      },
      "execution_count": 8,
      "outputs": [
        {
          "output_type": "stream",
          "name": "stdout",
          "text": [
            "Looking in indexes: https://pypi.org/simple, https://us-python.pkg.dev/colab-wheels/public/simple/\n",
            "Collecting dwave-ocean-sdk\n",
            "  Downloading dwave_ocean_sdk-5.2.0-py3-none-any.whl (8.4 kB)\n",
            "Collecting dwave-inspector==0.2.11\n",
            "  Downloading dwave_inspector-0.2.11-py3-none-any.whl (26 kB)\n",
            "Collecting minorminer==0.2.9\n",
            "  Downloading minorminer-0.2.9-cp37-cp37m-manylinux_2_12_x86_64.manylinux2010_x86_64.whl (5.3 MB)\n",
            "\u001b[K     |████████████████████████████████| 5.3 MB 6.5 MB/s \n",
            "\u001b[?25hCollecting dwave-preprocessing==0.4.0\n",
            "  Downloading dwave_preprocessing-0.4.0-cp37-cp37m-manylinux_2_12_x86_64.manylinux2010_x86_64.whl (966 kB)\n",
            "\u001b[K     |████████████████████████████████| 966 kB 54.8 MB/s \n",
            "\u001b[?25hCollecting dwave-greedy==0.2.5\n",
            "  Downloading dwave_greedy-0.2.5-cp37-cp37m-manylinux_2_17_x86_64.manylinux2014_x86_64.whl (658 kB)\n",
            "\u001b[K     |████████████████████████████████| 658 kB 56.6 MB/s \n",
            "\u001b[?25hCollecting dwave-tabu==0.4.5\n",
            "  Downloading dwave_tabu-0.4.5-cp37-cp37m-manylinux_2_17_x86_64.manylinux2014_x86_64.whl (700 kB)\n",
            "\u001b[K     |████████████████████████████████| 700 kB 55.3 MB/s \n",
            "\u001b[?25hCollecting dwave-cloud-client==0.10.1\n",
            "  Downloading dwave_cloud_client-0.10.1-py3-none-any.whl (108 kB)\n",
            "\u001b[K     |████████████████████████████████| 108 kB 60.6 MB/s \n",
            "\u001b[?25hCollecting dimod==0.11.2\n",
            "  Downloading dimod-0.11.2-cp37-cp37m-manylinux_2_12_x86_64.manylinux2010_x86_64.whl (11.9 MB)\n",
            "\u001b[K     |████████████████████████████████| 11.9 MB 42.5 MB/s \n",
            "\u001b[?25hCollecting dwave-neal==0.5.9\n",
            "  Downloading dwave_neal-0.5.9-cp37-cp37m-manylinux_2_5_x86_64.manylinux1_x86_64.manylinux_2_12_x86_64.manylinux2010_x86_64.whl (497 kB)\n",
            "\u001b[K     |████████████████████████████████| 497 kB 64.9 MB/s \n",
            "\u001b[?25hCollecting dwavebinarycsp==0.2.0\n",
            "  Downloading dwavebinarycsp-0.2.0-py3-none-any.whl (35 kB)\n",
            "Collecting dwave-system==1.15.0\n",
            "  Downloading dwave_system-1.15.0-py3-none-any.whl (90 kB)\n",
            "\u001b[K     |████████████████████████████████| 90 kB 9.1 MB/s \n",
            "\u001b[?25hCollecting penaltymodel==1.0.2\n",
            "  Downloading penaltymodel-1.0.2-py3-none-any.whl (36 kB)\n",
            "Collecting dwave-networkx==0.8.12\n",
            "  Downloading dwave_networkx-0.8.12-py3-none-any.whl (97 kB)\n",
            "\u001b[K     |████████████████████████████████| 97 kB 7.4 MB/s \n",
            "\u001b[?25hCollecting dwave-hybrid==0.6.7\n",
            "  Downloading dwave_hybrid-0.6.7-py3-none-any.whl (69 kB)\n",
            "\u001b[K     |████████████████████████████████| 69 kB 7.6 MB/s \n",
            "\u001b[?25hRequirement already satisfied: numpy<2.0.0,>=1.17.3 in /usr/local/lib/python3.7/dist-packages (from dimod==0.11.2->dwave-ocean-sdk) (1.21.6)\n",
            "Requirement already satisfied: requests[socks]>=2.18 in /usr/local/lib/python3.7/dist-packages (from dwave-cloud-client==0.10.1->dwave-ocean-sdk) (2.23.0)\n",
            "Collecting diskcache>=5.2.1\n",
            "  Downloading diskcache-5.4.0-py3-none-any.whl (44 kB)\n",
            "\u001b[K     |████████████████████████████████| 44 kB 3.4 MB/s \n",
            "\u001b[?25hRequirement already satisfied: pydantic>=1.7.3 in /usr/local/lib/python3.7/dist-packages (from dwave-cloud-client==0.10.1->dwave-ocean-sdk) (1.8.2)\n",
            "Collecting plucky>=0.4.3\n",
            "  Downloading plucky-0.4.3-py2.py3-none-any.whl (10 kB)\n",
            "Collecting homebase>=1.0\n",
            "  Downloading homebase-1.0.1-py2.py3-none-any.whl (11 kB)\n",
            "Requirement already satisfied: python-dateutil>=2.7 in /usr/local/lib/python3.7/dist-packages (from dwave-cloud-client==0.10.1->dwave-ocean-sdk) (2.8.2)\n",
            "Requirement already satisfied: click>=7.0 in /usr/local/lib/python3.7/dist-packages (from dwave-cloud-client==0.10.1->dwave-ocean-sdk) (7.1.2)\n",
            "Requirement already satisfied: importlib-metadata>=1.0 in /usr/local/lib/python3.7/dist-packages (from dwave-greedy==0.2.5->dwave-ocean-sdk) (4.11.4)\n",
            "Requirement already satisfied: networkx in /usr/local/lib/python3.7/dist-packages (from dwave-hybrid==0.6.7->dwave-ocean-sdk) (2.6.3)\n",
            "Requirement already satisfied: Flask>=1.1.1 in /usr/local/lib/python3.7/dist-packages (from dwave-inspector==0.2.11->dwave-ocean-sdk) (1.1.4)\n",
            "Requirement already satisfied: importlib-resources>=3.2.0 in /usr/local/lib/python3.7/dist-packages (from dwave-inspector==0.2.11->dwave-ocean-sdk) (5.7.1)\n",
            "Requirement already satisfied: scipy in /usr/local/lib/python3.7/dist-packages (from minorminer==0.2.9->dwave-ocean-sdk) (1.4.1)\n",
            "Collecting rectangle-packer>=2.0.1\n",
            "  Downloading rectangle_packer-2.0.1-cp37-cp37m-manylinux2010_x86_64.whl (246 kB)\n",
            "\u001b[K     |████████████████████████████████| 246 kB 12.0 MB/s \n",
            "\u001b[?25hCollecting fasteners\n",
            "  Downloading fasteners-0.17.3-py3-none-any.whl (18 kB)\n",
            "Collecting scipy\n",
            "  Downloading scipy-1.7.3-cp37-cp37m-manylinux_2_12_x86_64.manylinux2010_x86_64.whl (38.1 MB)\n",
            "\u001b[K     |████████████████████████████████| 38.1 MB 1.2 MB/s \n",
            "\u001b[?25hRequirement already satisfied: Jinja2<3.0,>=2.10.1 in /usr/local/lib/python3.7/dist-packages (from Flask>=1.1.1->dwave-inspector==0.2.11->dwave-ocean-sdk) (2.11.3)\n",
            "Requirement already satisfied: itsdangerous<2.0,>=0.24 in /usr/local/lib/python3.7/dist-packages (from Flask>=1.1.1->dwave-inspector==0.2.11->dwave-ocean-sdk) (1.1.0)\n",
            "Requirement already satisfied: Werkzeug<2.0,>=0.15 in /usr/local/lib/python3.7/dist-packages (from Flask>=1.1.1->dwave-inspector==0.2.11->dwave-ocean-sdk) (1.0.1)\n",
            "Requirement already satisfied: typing-extensions>=3.6.4 in /usr/local/lib/python3.7/dist-packages (from importlib-metadata>=1.0->dwave-greedy==0.2.5->dwave-ocean-sdk) (4.1.1)\n",
            "Requirement already satisfied: zipp>=0.5 in /usr/local/lib/python3.7/dist-packages (from importlib-metadata>=1.0->dwave-greedy==0.2.5->dwave-ocean-sdk) (3.8.0)\n",
            "Requirement already satisfied: MarkupSafe>=0.23 in /usr/local/lib/python3.7/dist-packages (from Jinja2<3.0,>=2.10.1->Flask>=1.1.1->dwave-inspector==0.2.11->dwave-ocean-sdk) (2.0.1)\n",
            "Requirement already satisfied: six>=1.5 in /usr/local/lib/python3.7/dist-packages (from python-dateutil>=2.7->dwave-cloud-client==0.10.1->dwave-ocean-sdk) (1.15.0)\n",
            "Requirement already satisfied: chardet<4,>=3.0.2 in /usr/local/lib/python3.7/dist-packages (from requests[socks]>=2.18->dwave-cloud-client==0.10.1->dwave-ocean-sdk) (3.0.4)\n",
            "Requirement already satisfied: idna<3,>=2.5 in /usr/local/lib/python3.7/dist-packages (from requests[socks]>=2.18->dwave-cloud-client==0.10.1->dwave-ocean-sdk) (2.10)\n",
            "Requirement already satisfied: urllib3!=1.25.0,!=1.25.1,<1.26,>=1.21.1 in /usr/local/lib/python3.7/dist-packages (from requests[socks]>=2.18->dwave-cloud-client==0.10.1->dwave-ocean-sdk) (1.24.3)\n",
            "Requirement already satisfied: certifi>=2017.4.17 in /usr/local/lib/python3.7/dist-packages (from requests[socks]>=2.18->dwave-cloud-client==0.10.1->dwave-ocean-sdk) (2022.6.15)\n",
            "Requirement already satisfied: PySocks!=1.5.7,>=1.5.6 in /usr/local/lib/python3.7/dist-packages (from requests[socks]>=2.18->dwave-cloud-client==0.10.1->dwave-ocean-sdk) (1.7.1)\n",
            "Installing collected packages: dimod, scipy, rectangle-packer, plucky, homebase, fasteners, dwave-networkx, diskcache, minorminer, dwave-tabu, dwave-preprocessing, dwave-cloud-client, penaltymodel, dwave-system, dwave-neal, dwave-greedy, dwavebinarycsp, dwave-inspector, dwave-hybrid, dwave-ocean-sdk\n",
            "  Attempting uninstall: scipy\n",
            "    Found existing installation: scipy 1.4.1\n",
            "    Uninstalling scipy-1.4.1:\n",
            "      Successfully uninstalled scipy-1.4.1\n",
            "\u001b[31mERROR: pip's dependency resolver does not currently take into account all the packages that are installed. This behaviour is the source of the following dependency conflicts.\n",
            "albumentations 0.1.12 requires imgaug<0.2.7,>=0.2.5, but you have imgaug 0.2.9 which is incompatible.\u001b[0m\n",
            "Successfully installed dimod-0.11.2 diskcache-5.4.0 dwave-cloud-client-0.10.1 dwave-greedy-0.2.5 dwave-hybrid-0.6.7 dwave-inspector-0.2.11 dwave-neal-0.5.9 dwave-networkx-0.8.12 dwave-ocean-sdk-5.2.0 dwave-preprocessing-0.4.0 dwave-system-1.15.0 dwave-tabu-0.4.5 dwavebinarycsp-0.2.0 fasteners-0.17.3 homebase-1.0.1 minorminer-0.2.9 penaltymodel-1.0.2 plucky-0.4.3 rectangle-packer-2.0.1 scipy-1.7.3\n"
          ]
        }
      ]
    },
    {
      "cell_type": "code",
      "source": [
        "# グラフ分割ソフト：https://github.com/inducer/pymetis\n",
        "!pip install PyMetis"
      ],
      "metadata": {
        "colab": {
          "base_uri": "https://localhost:8080/"
        },
        "id": "h797SLYd_3Xl",
        "outputId": "09cc277a-8f88-427a-e16d-4faee84ddd6e"
      },
      "execution_count": 9,
      "outputs": [
        {
          "output_type": "stream",
          "name": "stdout",
          "text": [
            "Looking in indexes: https://pypi.org/simple, https://us-python.pkg.dev/colab-wheels/public/simple/\n",
            "Collecting PyMetis\n",
            "  Downloading PyMetis-2020.1.tar.gz (297 kB)\n",
            "\u001b[K     |████████████████████████████████| 297 kB 4.1 MB/s \n",
            "\u001b[?25hRequirement already satisfied: six in /usr/local/lib/python3.7/dist-packages (from PyMetis) (1.15.0)\n",
            "Building wheels for collected packages: PyMetis\n",
            "  Building wheel for PyMetis (setup.py) ... \u001b[?25l\u001b[?25hdone\n",
            "  Created wheel for PyMetis: filename=PyMetis-2020.1-cp37-cp37m-linux_x86_64.whl size=278547 sha256=1d57b96675b4d3c4262b0fc8a8bbfc6bce6feb66e06fc3c01811ea86e87cea71\n",
            "  Stored in directory: /root/.cache/pip/wheels/fc/6a/69/a4296ff80443cd9b3876eaea9bd8dfeed30cc8443708848097\n",
            "Successfully built PyMetis\n",
            "Installing collected packages: PyMetis\n",
            "Successfully installed PyMetis-2020.1\n"
          ]
        }
      ]
    },
    {
      "cell_type": "code",
      "execution_count": 15,
      "metadata": {
        "id": "NVSYI0axk7fo"
      },
      "outputs": [],
      "source": [
        "import re\n",
        "import itertools\n",
        "\n",
        "import matplotlib.pyplot as plt\n",
        "\n",
        "# Numpy\n",
        "import numpy as np\n",
        "\n",
        "# グラフ可視化ライブラリ：https://graphviz.org/\n",
        "from graphviz import Digraph\n",
        "\n",
        "# ネットワーク構造解析のライブラリ：https://networkx.org/\n",
        "import networkx as nx\n",
        "import networkx.algorithms as nxa\n",
        "\n",
        "# グラフ分割\n",
        "import pymetis\n",
        "\n",
        "# D-Wave\n",
        "from dwave.system.samplers import DWaveSampler\n",
        "from dwave.system.composites import EmbeddingComposite\n",
        "from dwave.system import LeapHybridSampler\n",
        "\n",
        "import DeBruijnDNA\n",
        "import AcyclicGraphDNA\n",
        "\n",
        "import matplotlib.pyplot as plt\n",
        "\n",
        "# API_KEY = \"D-WAVE_OCEAN_SDK_API_KEY\" #API_KEY, register on https://www.dwavesys.com/take-leap # シュミレータを使用するため、記載を削除"
      ]
    },
    {
      "cell_type": "code",
      "execution_count": 16,
      "metadata": {
        "id": "j1tip5P4k7ft"
      },
      "outputs": [],
      "source": [
        "#def solve_dwave(Q, API_KEY):         # APIキーを利用しないシュミレータで実装するため、記載を削除しています。\n",
        "def solve_dwave(Q):\n",
        "    \"\"\"\n",
        "    Q = np.array([[-1, 1, 0], [1, -1, -2], [0, -2, -1]])\n",
        "    solve_dwave(Q)\n",
        "    \"\"\"\n",
        "    q = {}\n",
        "    size = len(Q)\n",
        "    for i in range(size):\n",
        "        for j in range(size):\n",
        "            q[(i,j)] = Q[i][j]\n",
        "\n",
        "    # シミュレータでの実装に書き換えています\n",
        "    #sampler = LeapHybridSampler(token=API_KEY)\n",
        "    #response = sampler.sample_qubo(q, num_reads=30, anneal_time=20)\n",
        "    solver = dimod.IdentitySampler()\n",
        "    response = solver.sample_qubo(q, num_reads=30, anneal_time=20)\n",
        "\n",
        "    result = []\n",
        "    for sample, energy in response.data(['sample', 'energy']): \n",
        "        result.append(sample)\n",
        "        result.append(energy)\n",
        "\n",
        "    result.append(response.info) # view timings\n",
        "    \n",
        "    return result"
      ]
    },
    {
      "cell_type": "markdown",
      "metadata": {
        "id": "RB6OIQmwk7fu"
      },
      "source": [
        "## 1. Hamiltonian path De Bruijn graph"
      ]
    },
    {
      "cell_type": "code",
      "execution_count": 19,
      "metadata": {
        "id": "4MZnl9vMk7fw",
        "outputId": "8a2dc039-0fa3-4f9b-e7ce-5e380d4d4821",
        "colab": {
          "base_uri": "https://localhost:8080/",
          "height": 580
        }
      },
      "outputs": [
        {
          "output_type": "execute_result",
          "data": {
            "text/plain": [
              "<graphviz.dot.Digraph at 0x7fce4e9c9690>"
            ],
            "image/svg+xml": "<?xml version=\"1.0\" encoding=\"UTF-8\" standalone=\"no\"?>\n<!DOCTYPE svg PUBLIC \"-//W3C//DTD SVG 1.1//EN\"\n \"http://www.w3.org/Graphics/SVG/1.1/DTD/svg11.dtd\">\n<!-- Generated by graphviz version 2.40.1 (20161225.0304)\n -->\n<!-- Title: %3 Pages: 1 -->\n<svg width=\"438pt\" height=\"419pt\"\n viewBox=\"0.00 0.00 437.59 419.50\" xmlns=\"http://www.w3.org/2000/svg\" xmlns:xlink=\"http://www.w3.org/1999/xlink\">\n<g id=\"graph0\" class=\"graph\" transform=\"scale(1 1) rotate(0) translate(4 415.4953)\">\n<title>%3</title>\n<polygon fill=\"#ffffff\" stroke=\"transparent\" points=\"-4,4 -4,-415.4953 433.5853,-415.4953 433.5853,4 -4,4\"/>\n<!-- CAT -->\n<g id=\"node1\" class=\"node\">\n<title>CAT</title>\n<ellipse fill=\"none\" stroke=\"#000000\" cx=\"354.4358\" cy=\"-83.2041\" rx=\"28.6953\" ry=\"18\"/>\n<text text-anchor=\"middle\" x=\"354.4358\" y=\"-79.5041\" font-family=\"Times,serif\" font-size=\"14.00\" fill=\"#000000\">CAT</text>\n</g>\n<!-- ATA -->\n<g id=\"node2\" class=\"node\">\n<title>ATA</title>\n<ellipse fill=\"none\" stroke=\"#000000\" cx=\"241.4991\" cy=\"-18\" rx=\"28.6953\" ry=\"18\"/>\n<text text-anchor=\"middle\" x=\"241.4991\" y=\"-14.3\" font-family=\"Times,serif\" font-size=\"14.00\" fill=\"#000000\">ATA</text>\n</g>\n<!-- CAT&#45;&gt;ATA -->\n<g id=\"edge1\" class=\"edge\">\n<title>CAT&#45;&gt;ATA</title>\n<path fill=\"none\" stroke=\"#87cefa\" d=\"M333.1933,-70.9397C315.7625,-60.876 290.8758,-46.5077 271.4266,-35.2787\"/>\n<polygon fill=\"#87cefa\" stroke=\"#87cefa\" points=\"273.0567,-32.1783 262.6464,-30.2094 269.5566,-38.2405 273.0567,-32.1783\"/>\n</g>\n<!-- TAC -->\n<g id=\"node3\" class=\"node\">\n<title>TAC</title>\n<ellipse fill=\"none\" stroke=\"#000000\" cx=\"113.0721\" cy=\"-370.8501\" rx=\"29.4969\" ry=\"18\"/>\n<text text-anchor=\"middle\" x=\"113.0721\" y=\"-367.1501\" font-family=\"Times,serif\" font-size=\"14.00\" fill=\"#000000\">TAC</text>\n</g>\n<!-- ATA&#45;&gt;TAC -->\n<g id=\"edge2\" class=\"edge\">\n<title>ATA&#45;&gt;TAC</title>\n<path fill=\"none\" stroke=\"#87cefa\" d=\"M234.9538,-35.983C213.9989,-93.556 148.4614,-273.6191 123.1696,-343.1075\"/>\n<polygon fill=\"#87cefa\" stroke=\"#87cefa\" points=\"119.7356,-342.3093 119.6042,-352.9033 126.3134,-344.7035 119.7356,-342.3093\"/>\n</g>\n<!-- TAA -->\n<g id=\"node4\" class=\"node\">\n<title>TAA</title>\n<ellipse fill=\"none\" stroke=\"#000000\" cx=\"113.0721\" cy=\"-40.6451\" rx=\"29.795\" ry=\"18\"/>\n<text text-anchor=\"middle\" x=\"113.0721\" y=\"-36.9451\" font-family=\"Times,serif\" font-size=\"14.00\" fill=\"#000000\">TAA</text>\n</g>\n<!-- ATA&#45;&gt;TAA -->\n<g id=\"edge3\" class=\"edge\">\n<title>ATA&#45;&gt;TAA</title>\n<path fill=\"none\" stroke=\"#87cefa\" d=\"M213.9483,-22.8579C195.8726,-26.0452 171.968,-30.2602 151.9661,-33.7871\"/>\n<polygon fill=\"#87cefa\" stroke=\"#87cefa\" points=\"151.1539,-30.3762 141.9137,-35.5596 152.3695,-37.2699 151.1539,-30.3762\"/>\n</g>\n<!-- ACA -->\n<g id=\"node5\" class=\"node\">\n<title>ACA</title>\n<ellipse fill=\"none\" stroke=\"#000000\" cx=\"399.0381\" cy=\"-205.7476\" rx=\"30.5947\" ry=\"18\"/>\n<text text-anchor=\"middle\" x=\"399.0381\" y=\"-202.0476\" font-family=\"Times,serif\" font-size=\"14.00\" fill=\"#000000\">ACA</text>\n</g>\n<!-- TAC&#45;&gt;ACA -->\n<g id=\"edge4\" class=\"edge\">\n<title>TAC&#45;&gt;ACA</title>\n<path fill=\"none\" stroke=\"#87cefa\" d=\"M134.5661,-358.4406C184.7475,-329.4684 309.7775,-257.2822 368.1305,-223.5921\"/>\n<polygon fill=\"#87cefa\" stroke=\"#87cefa\" points=\"369.9914,-226.5592 376.9016,-218.5281 366.4913,-220.4971 369.9914,-226.5592\"/>\n</g>\n<!-- ACC -->\n<g id=\"node6\" class=\"node\">\n<title>ACC</title>\n<ellipse fill=\"none\" stroke=\"#000000\" cx=\"241.4991\" cy=\"-393.4953\" rx=\"30.5947\" ry=\"18\"/>\n<text text-anchor=\"middle\" x=\"241.4991\" y=\"-389.7953\" font-family=\"Times,serif\" font-size=\"14.00\" fill=\"#000000\">ACC</text>\n</g>\n<!-- TAC&#45;&gt;ACC -->\n<g id=\"edge5\" class=\"edge\">\n<title>TAC&#45;&gt;ACC</title>\n<path fill=\"none\" stroke=\"#87cefa\" d=\"M141.256,-375.8197C159.113,-378.9684 182.4663,-383.0862 202.1393,-386.5551\"/>\n<polygon fill=\"#87cefa\" stroke=\"#87cefa\" points=\"201.587,-390.0116 212.0429,-388.3013 202.8026,-383.118 201.587,-390.0116\"/>\n</g>\n<!-- ACA&#45;&gt;CAT -->\n<g id=\"edge6\" class=\"edge\">\n<title>ACA&#45;&gt;CAT</title>\n<path fill=\"none\" stroke=\"#87cefa\" d=\"M392.5525,-187.9287C385.1533,-167.5995 372.9684,-134.1218 364.3702,-110.4984\"/>\n<polygon fill=\"#87cefa\" stroke=\"#87cefa\" points=\"367.6384,-109.2443 360.9292,-101.0445 361.0606,-111.6385 367.6384,-109.2443\"/>\n</g>\n<!-- CAC -->\n<g id=\"node7\" class=\"node\">\n<title>CAC</title>\n<ellipse fill=\"none\" stroke=\"#000000\" cx=\"354.4358\" cy=\"-328.2912\" rx=\"30.5947\" ry=\"18\"/>\n<text text-anchor=\"middle\" x=\"354.4358\" y=\"-324.5912\" font-family=\"Times,serif\" font-size=\"14.00\" fill=\"#000000\">CAC</text>\n</g>\n<!-- ACA&#45;&gt;CAC -->\n<g id=\"edge7\" class=\"edge\">\n<title>ACA&#45;&gt;CAC</title>\n<path fill=\"none\" stroke=\"#87cefa\" d=\"M387.5567,-222.6461C378.0383,-242.6958 365.5607,-276.3627 358.6171,-300.3118\"/>\n<polygon fill=\"#87cefa\" stroke=\"#87cefa\" points=\"355.1669,-299.6622 355.9256,-310.2298 361.9225,-301.4956 355.1669,-299.6622\"/>\n</g>\n<!-- CCT -->\n<g id=\"node8\" class=\"node\">\n<title>CCT</title>\n<ellipse fill=\"none\" stroke=\"#000000\" cx=\"29.2474\" cy=\"-270.9517\" rx=\"29.4969\" ry=\"18\"/>\n<text text-anchor=\"middle\" x=\"29.2474\" y=\"-267.2517\" font-family=\"Times,serif\" font-size=\"14.00\" fill=\"#000000\">CCT</text>\n</g>\n<!-- ACC&#45;&gt;CCT -->\n<g id=\"edge10\" class=\"edge\">\n<title>ACC&#45;&gt;CCT</title>\n<path fill=\"none\" stroke=\"#87cefa\" d=\"M219.5839,-380.8425C181.4145,-358.8054 102.6841,-313.3504 59.3986,-288.3595\"/>\n<polygon fill=\"#87cefa\" stroke=\"#87cefa\" points=\"61.1376,-285.3221 50.7273,-283.3531 57.6375,-291.3843 61.1376,-285.3221\"/>\n</g>\n<!-- CAC&#45;&gt;ACA -->\n<g id=\"edge8\" class=\"edge\">\n<title>CAC&#45;&gt;ACA</title>\n<path fill=\"none\" stroke=\"#87cefa\" d=\"M365.9172,-311.3928C375.4356,-291.343 387.9132,-257.6761 394.8568,-233.7271\"/>\n<polygon fill=\"#87cefa\" stroke=\"#87cefa\" points=\"398.307,-234.3766 397.5483,-223.809 391.5514,-232.5433 398.307,-234.3766\"/>\n</g>\n<!-- CAC&#45;&gt;ACC -->\n<g id=\"edge9\" class=\"edge\">\n<title>CAC&#45;&gt;ACC</title>\n<path fill=\"none\" stroke=\"#87cefa\" d=\"M332.3924,-341.018C315.2911,-350.8914 291.378,-364.6977 272.3717,-375.6709\"/>\n<polygon fill=\"#87cefa\" stroke=\"#87cefa\" points=\"270.3972,-372.7694 263.4869,-380.8006 273.8972,-378.8316 270.3972,-372.7694\"/>\n</g>\n<!-- CTA -->\n<g id=\"node9\" class=\"node\">\n<title>CTA</title>\n<ellipse fill=\"none\" stroke=\"#000000\" cx=\"29.2474\" cy=\"-140.5436\" rx=\"29.4969\" ry=\"18\"/>\n<text text-anchor=\"middle\" x=\"29.2474\" y=\"-136.8436\" font-family=\"Times,serif\" font-size=\"14.00\" fill=\"#000000\">CTA</text>\n</g>\n<!-- CCT&#45;&gt;CTA -->\n<g id=\"edge11\" class=\"edge\">\n<title>CCT&#45;&gt;CTA</title>\n<path fill=\"none\" stroke=\"#87cefa\" d=\"M29.2474,-252.819C29.2474,-231.141 29.2474,-194.5996 29.2474,-169.1131\"/>\n<polygon fill=\"#87cefa\" stroke=\"#87cefa\" points=\"32.7475,-168.9426 29.2474,-158.9427 25.7475,-168.9427 32.7475,-168.9426\"/>\n</g>\n<!-- CTA&#45;&gt;TAC -->\n<g id=\"edge12\" class=\"edge\">\n<title>CTA&#45;&gt;TAC</title>\n<path fill=\"none\" stroke=\"#87cefa\" d=\"M35.6858,-158.2329C50.2224,-198.1718 85.6713,-295.567 103.0852,-343.4113\"/>\n<polygon fill=\"#87cefa\" stroke=\"#87cefa\" points=\"99.9026,-344.9007 106.6118,-353.1005 106.4805,-342.5065 99.9026,-344.9007\"/>\n</g>\n<!-- CTA&#45;&gt;TAA -->\n<g id=\"edge13\" class=\"edge\">\n<title>CTA&#45;&gt;TAA</title>\n<path fill=\"none\" stroke=\"#87cefa\" d=\"M42.7153,-124.4932C56.2608,-108.3502 77.3115,-83.263 92.8601,-64.7329\"/>\n<polygon fill=\"#87cefa\" stroke=\"#87cefa\" points=\"95.6124,-66.8978 99.3592,-56.9876 90.2501,-62.3983 95.6124,-66.8978\"/>\n</g>\n</g>\n</svg>\n"
          },
          "metadata": {},
          "execution_count": 19
        }
      ],
      "source": [
        "#ツール読み込み\n",
        "import dimod\n",
        "\n",
        "seq = 'CATACACCTAA'                                                                         # シーケンスの定義\n",
        "kmer_len, suffix_len = 3, 2                                                                 # 塩基の長さと、結合する際の共通する塩基の個数\n",
        "adj, node_labels = DeBruijnDNA.make_debr(seq, kmer_len=kmer_len, suffix_len=suffix_len)     # De Brujin graphの作成\n",
        "\n",
        "g, nodes = DeBruijnDNA.draw_graph(adj, node_labels, [], kmer_len = kmer_len)                # グラフ描画のためのデータ準備\n",
        "g.engine = 'circo'                                                                          # Graphvizの円形グラフで描画。Graphvizはdot言語で記述されたグラフ構造を任意のフォーマットの画像ファイルへ出力するツールです。\n",
        "Q = DeBruijnDNA.to_qubo(adj)                                                                # 隣接行列をQUBOに変換\n",
        "\n",
        "g                                                                                           # グラフ描画"
      ]
    },
    {
      "cell_type": "code",
      "execution_count": 20,
      "metadata": {
        "id": "mTazbtAOk7fz",
        "outputId": "0d35e616-8869-4764-df75-90de19679aa4",
        "colab": {
          "base_uri": "https://localhost:8080/",
          "height": 615
        }
      },
      "outputs": [
        {
          "output_type": "stream",
          "name": "stderr",
          "text": [
            "/usr/local/lib/python3.7/dist-packages/dimod/core/sampler.py:291: SamplerUnknownArgWarning: Ignoring unknown kwarg: 'anneal_time'\n",
            "  return self.sample(bqm, **parameters)\n"
          ]
        },
        {
          "output_type": "execute_result",
          "data": {
            "text/plain": [
              "<graphviz.dot.Digraph at 0x7fce4e8c5850>"
            ],
            "image/svg+xml": "<?xml version=\"1.0\" encoding=\"UTF-8\" standalone=\"no\"?>\n<!DOCTYPE svg PUBLIC \"-//W3C//DTD SVG 1.1//EN\"\n \"http://www.w3.org/Graphics/SVG/1.1/DTD/svg11.dtd\">\n<!-- Generated by graphviz version 2.40.1 (20161225.0304)\n -->\n<!-- Title: %3 Pages: 1 -->\n<svg width=\"438pt\" height=\"419pt\"\n viewBox=\"0.00 0.00 437.59 419.50\" xmlns=\"http://www.w3.org/2000/svg\" xmlns:xlink=\"http://www.w3.org/1999/xlink\">\n<g id=\"graph0\" class=\"graph\" transform=\"scale(1 1) rotate(0) translate(4 415.4953)\">\n<title>%3</title>\n<polygon fill=\"#ffffff\" stroke=\"transparent\" points=\"-4,4 -4,-415.4953 433.5853,-415.4953 433.5853,4 -4,4\"/>\n<!-- CAT -->\n<g id=\"node1\" class=\"node\">\n<title>CAT</title>\n<ellipse fill=\"none\" stroke=\"#000000\" cx=\"354.4358\" cy=\"-83.2041\" rx=\"28.6953\" ry=\"18\"/>\n<text text-anchor=\"middle\" x=\"354.4358\" y=\"-79.5041\" font-family=\"Times,serif\" font-size=\"14.00\" fill=\"#000000\">CAT</text>\n</g>\n<!-- ATA -->\n<g id=\"node2\" class=\"node\">\n<title>ATA</title>\n<ellipse fill=\"none\" stroke=\"#000000\" cx=\"241.4991\" cy=\"-18\" rx=\"28.6953\" ry=\"18\"/>\n<text text-anchor=\"middle\" x=\"241.4991\" y=\"-14.3\" font-family=\"Times,serif\" font-size=\"14.00\" fill=\"#000000\">ATA</text>\n</g>\n<!-- CAT&#45;&gt;ATA -->\n<g id=\"edge1\" class=\"edge\">\n<title>CAT&#45;&gt;ATA</title>\n<path fill=\"none\" stroke=\"#87cefa\" d=\"M333.1933,-70.9397C315.7625,-60.876 290.8758,-46.5077 271.4266,-35.2787\"/>\n<polygon fill=\"#87cefa\" stroke=\"#87cefa\" points=\"273.0567,-32.1783 262.6464,-30.2094 269.5566,-38.2405 273.0567,-32.1783\"/>\n</g>\n<!-- TAC -->\n<g id=\"node3\" class=\"node\">\n<title>TAC</title>\n<ellipse fill=\"none\" stroke=\"#000000\" cx=\"113.0721\" cy=\"-370.8501\" rx=\"29.4969\" ry=\"18\"/>\n<text text-anchor=\"middle\" x=\"113.0721\" y=\"-367.1501\" font-family=\"Times,serif\" font-size=\"14.00\" fill=\"#000000\">TAC</text>\n</g>\n<!-- ATA&#45;&gt;TAC -->\n<g id=\"edge2\" class=\"edge\">\n<title>ATA&#45;&gt;TAC</title>\n<path fill=\"none\" stroke=\"#87cefa\" d=\"M234.9538,-35.983C213.9989,-93.556 148.4614,-273.6191 123.1696,-343.1075\"/>\n<polygon fill=\"#87cefa\" stroke=\"#87cefa\" points=\"119.7356,-342.3093 119.6042,-352.9033 126.3134,-344.7035 119.7356,-342.3093\"/>\n</g>\n<!-- TAA -->\n<g id=\"node4\" class=\"node\">\n<title>TAA</title>\n<ellipse fill=\"none\" stroke=\"#000000\" cx=\"113.0721\" cy=\"-40.6451\" rx=\"29.795\" ry=\"18\"/>\n<text text-anchor=\"middle\" x=\"113.0721\" y=\"-36.9451\" font-family=\"Times,serif\" font-size=\"14.00\" fill=\"#000000\">TAA</text>\n</g>\n<!-- ATA&#45;&gt;TAA -->\n<g id=\"edge3\" class=\"edge\">\n<title>ATA&#45;&gt;TAA</title>\n<path fill=\"none\" stroke=\"#87cefa\" d=\"M213.9483,-22.8579C195.8726,-26.0452 171.968,-30.2602 151.9661,-33.7871\"/>\n<polygon fill=\"#87cefa\" stroke=\"#87cefa\" points=\"151.1539,-30.3762 141.9137,-35.5596 152.3695,-37.2699 151.1539,-30.3762\"/>\n</g>\n<!-- ACA -->\n<g id=\"node5\" class=\"node\">\n<title>ACA</title>\n<ellipse fill=\"none\" stroke=\"#000000\" cx=\"399.0381\" cy=\"-205.7476\" rx=\"30.5947\" ry=\"18\"/>\n<text text-anchor=\"middle\" x=\"399.0381\" y=\"-202.0476\" font-family=\"Times,serif\" font-size=\"14.00\" fill=\"#000000\">ACA</text>\n</g>\n<!-- TAC&#45;&gt;ACA -->\n<g id=\"edge4\" class=\"edge\">\n<title>TAC&#45;&gt;ACA</title>\n<path fill=\"none\" stroke=\"#87cefa\" d=\"M134.5661,-358.4406C184.7475,-329.4684 309.7775,-257.2822 368.1305,-223.5921\"/>\n<polygon fill=\"#87cefa\" stroke=\"#87cefa\" points=\"369.9914,-226.5592 376.9016,-218.5281 366.4913,-220.4971 369.9914,-226.5592\"/>\n</g>\n<!-- ACC -->\n<g id=\"node6\" class=\"node\">\n<title>ACC</title>\n<ellipse fill=\"none\" stroke=\"#000000\" cx=\"241.4991\" cy=\"-393.4953\" rx=\"30.5947\" ry=\"18\"/>\n<text text-anchor=\"middle\" x=\"241.4991\" y=\"-389.7953\" font-family=\"Times,serif\" font-size=\"14.00\" fill=\"#000000\">ACC</text>\n</g>\n<!-- TAC&#45;&gt;ACC -->\n<g id=\"edge5\" class=\"edge\">\n<title>TAC&#45;&gt;ACC</title>\n<path fill=\"none\" stroke=\"#87cefa\" d=\"M141.256,-375.8197C159.113,-378.9684 182.4663,-383.0862 202.1393,-386.5551\"/>\n<polygon fill=\"#87cefa\" stroke=\"#87cefa\" points=\"201.587,-390.0116 212.0429,-388.3013 202.8026,-383.118 201.587,-390.0116\"/>\n</g>\n<!-- ACA&#45;&gt;CAT -->\n<g id=\"edge6\" class=\"edge\">\n<title>ACA&#45;&gt;CAT</title>\n<path fill=\"none\" stroke=\"#87cefa\" d=\"M392.5525,-187.9287C385.1533,-167.5995 372.9684,-134.1218 364.3702,-110.4984\"/>\n<polygon fill=\"#87cefa\" stroke=\"#87cefa\" points=\"367.6384,-109.2443 360.9292,-101.0445 361.0606,-111.6385 367.6384,-109.2443\"/>\n</g>\n<!-- CAC -->\n<g id=\"node7\" class=\"node\">\n<title>CAC</title>\n<ellipse fill=\"none\" stroke=\"#000000\" cx=\"354.4358\" cy=\"-328.2912\" rx=\"30.5947\" ry=\"18\"/>\n<text text-anchor=\"middle\" x=\"354.4358\" y=\"-324.5912\" font-family=\"Times,serif\" font-size=\"14.00\" fill=\"#000000\">CAC</text>\n</g>\n<!-- ACA&#45;&gt;CAC -->\n<g id=\"edge7\" class=\"edge\">\n<title>ACA&#45;&gt;CAC</title>\n<path fill=\"none\" stroke=\"#87cefa\" d=\"M387.5567,-222.6461C378.0383,-242.6958 365.5607,-276.3627 358.6171,-300.3118\"/>\n<polygon fill=\"#87cefa\" stroke=\"#87cefa\" points=\"355.1669,-299.6622 355.9256,-310.2298 361.9225,-301.4956 355.1669,-299.6622\"/>\n</g>\n<!-- CCT -->\n<g id=\"node8\" class=\"node\">\n<title>CCT</title>\n<ellipse fill=\"none\" stroke=\"#000000\" cx=\"29.2474\" cy=\"-270.9517\" rx=\"29.4969\" ry=\"18\"/>\n<text text-anchor=\"middle\" x=\"29.2474\" y=\"-267.2517\" font-family=\"Times,serif\" font-size=\"14.00\" fill=\"#000000\">CCT</text>\n</g>\n<!-- ACC&#45;&gt;CCT -->\n<g id=\"edge10\" class=\"edge\">\n<title>ACC&#45;&gt;CCT</title>\n<path fill=\"none\" stroke=\"#87cefa\" d=\"M219.5839,-380.8425C181.4145,-358.8054 102.6841,-313.3504 59.3986,-288.3595\"/>\n<polygon fill=\"#87cefa\" stroke=\"#87cefa\" points=\"61.1376,-285.3221 50.7273,-283.3531 57.6375,-291.3843 61.1376,-285.3221\"/>\n</g>\n<!-- CAC&#45;&gt;ACA -->\n<g id=\"edge8\" class=\"edge\">\n<title>CAC&#45;&gt;ACA</title>\n<path fill=\"none\" stroke=\"#87cefa\" d=\"M365.9172,-311.3928C375.4356,-291.343 387.9132,-257.6761 394.8568,-233.7271\"/>\n<polygon fill=\"#87cefa\" stroke=\"#87cefa\" points=\"398.307,-234.3766 397.5483,-223.809 391.5514,-232.5433 398.307,-234.3766\"/>\n</g>\n<!-- CAC&#45;&gt;ACC -->\n<g id=\"edge9\" class=\"edge\">\n<title>CAC&#45;&gt;ACC</title>\n<path fill=\"none\" stroke=\"#87cefa\" d=\"M332.3924,-341.018C315.2911,-350.8914 291.378,-364.6977 272.3717,-375.6709\"/>\n<polygon fill=\"#87cefa\" stroke=\"#87cefa\" points=\"270.3972,-372.7694 263.4869,-380.8006 273.8972,-378.8316 270.3972,-372.7694\"/>\n</g>\n<!-- CTA -->\n<g id=\"node9\" class=\"node\">\n<title>CTA</title>\n<ellipse fill=\"none\" stroke=\"#000000\" cx=\"29.2474\" cy=\"-140.5436\" rx=\"29.4969\" ry=\"18\"/>\n<text text-anchor=\"middle\" x=\"29.2474\" y=\"-136.8436\" font-family=\"Times,serif\" font-size=\"14.00\" fill=\"#000000\">CTA</text>\n</g>\n<!-- CCT&#45;&gt;CTA -->\n<g id=\"edge11\" class=\"edge\">\n<title>CCT&#45;&gt;CTA</title>\n<path fill=\"none\" stroke=\"#87cefa\" d=\"M29.2474,-252.819C29.2474,-231.141 29.2474,-194.5996 29.2474,-169.1131\"/>\n<polygon fill=\"#87cefa\" stroke=\"#87cefa\" points=\"32.7475,-168.9426 29.2474,-158.9427 25.7475,-168.9427 32.7475,-168.9426\"/>\n</g>\n<!-- CTA&#45;&gt;TAC -->\n<g id=\"edge12\" class=\"edge\">\n<title>CTA&#45;&gt;TAC</title>\n<path fill=\"none\" stroke=\"#87cefa\" d=\"M35.6858,-158.2329C50.2224,-198.1718 85.6713,-295.567 103.0852,-343.4113\"/>\n<polygon fill=\"#87cefa\" stroke=\"#87cefa\" points=\"99.9026,-344.9007 106.6118,-353.1005 106.4805,-342.5065 99.9026,-344.9007\"/>\n</g>\n<!-- CTA&#45;&gt;TAA -->\n<g id=\"edge13\" class=\"edge\">\n<title>CTA&#45;&gt;TAA</title>\n<path fill=\"none\" stroke=\"#87cefa\" d=\"M42.7153,-124.4932C56.2608,-108.3502 77.3115,-83.263 92.8601,-64.7329\"/>\n<polygon fill=\"#87cefa\" stroke=\"#87cefa\" points=\"95.6124,-66.8978 99.3592,-56.9876 90.2501,-62.3983 95.6124,-66.8978\"/>\n</g>\n</g>\n</svg>\n"
          },
          "metadata": {},
          "execution_count": 20
        }
      ],
      "source": [
        "target_energy = -np.sqrt(len(Q))                                                            # QUBOの長さをもとにnumpy配列の平方根を計算、DeBrujinDNAでは使用しない。\n",
        "# solution = solve_dwave(Q, API_KEY=API_KEY)                                                \n",
        "solution = solve_dwave(Q)                                                                   # D-Waveによる処理\n",
        "spins, energy = [solution[0][i] for i in solution[0].keys()], solution[1]                   # グラフ描画のためのデータ準備\n",
        "\n",
        "g, nodes = DeBruijnDNA.draw_graph(adj, node_labels, path_spins=spins, kmer_len=kmer_len)    # グラフの描画\n",
        "g.engine = 'circo'\n",
        "g"
      ]
    }
  ],
  "metadata": {
    "kernelspec": {
      "display_name": "Python 3",
      "language": "python",
      "name": "python3"
    },
    "language_info": {
      "codemirror_mode": {
        "name": "ipython",
        "version": 3
      },
      "file_extension": ".py",
      "mimetype": "text/x-python",
      "name": "python",
      "nbconvert_exporter": "python",
      "pygments_lexer": "ipython3",
      "version": "3.6.8"
    },
    "colab": {
      "name": "de_bruijn_graph.ipynb",
      "provenance": [],
      "collapsed_sections": []
    }
  },
  "nbformat": 4,
  "nbformat_minor": 0
}